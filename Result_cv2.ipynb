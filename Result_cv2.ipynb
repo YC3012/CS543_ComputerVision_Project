{
 "cells": [
  {
   "cell_type": "code",
   "execution_count": 71,
   "metadata": {},
   "outputs": [],
   "source": [
    "import cv2\n",
    "import numpy as np"
   ]
  },
  {
   "cell_type": "code",
   "execution_count": 72,
   "metadata": {},
   "outputs": [],
   "source": [
    "IMG_DIR = '00-002/00/image_0/'\n",
    "IMG_NAME_1 = '000000.png'\n",
    "IMG_NAME_2 = '000001.png'"
   ]
  },
  {
   "cell_type": "code",
   "execution_count": 73,
   "metadata": {},
   "outputs": [],
   "source": [
    "img_1 = cv2.imread(IMG_DIR + IMG_NAME_1)\n",
    "img_2 = cv2.imread(IMG_DIR + IMG_NAME_2)\n",
    "cv2.imshow('image1',img_1)\n",
    "cv2.imshow('image2',img_2)\n",
    "cv2.waitKey(0)\n",
    "cv2.destroyAllWindows()"
   ]
  },
  {
   "cell_type": "code",
   "execution_count": 74,
   "metadata": {},
   "outputs": [],
   "source": [
    "sift = cv2.xfeatures2d.SIFT_create()\n",
    "kp1, des1 = sift.detectAndCompute(img_1,None)\n",
    "kp2, des2 = sift.detectAndCompute(img_2,None)\n",
    "SIFT_1 = cv2.drawKeypoints(img_1, kp1, None, flags = cv2.DRAW_MATCHES_FLAGS_DRAW_RICH_KEYPOINTS)\n",
    "SIFT_2 = cv2.drawKeypoints(img_2, kp2, None, flags = cv2.DRAW_MATCHES_FLAGS_DRAW_RICH_KEYPOINTS)\n",
    "cv2.imshow('image1',SIFT_1)\n",
    "cv2.imshow('image2',SIFT_2)\n",
    "cv2.waitKey(0)\n",
    "cv2.destroyAllWindows()"
   ]
  },
  {
   "cell_type": "code",
   "execution_count": 75,
   "metadata": {},
   "outputs": [],
   "source": [
    "FLANN_INDEX_KDTREE = 0\n",
    "index_params = dict(algorithm = FLANN_INDEX_KDTREE, trees = 5)\n",
    "search_params = dict(checks=50)\n",
    "flann = cv2.FlannBasedMatcher(index_params,search_params)\n",
    "matches = flann.knnMatch(des1,des2,k=2)\n",
    "good = []\n",
    "pts1 = []\n",
    "pts2 = []\n",
    "for i,(m,n) in enumerate(matches):\n",
    "    if m.distance < 0.8*n.distance:\n",
    "        good.append(m)\n",
    "        pts2.append(kp2[m.trainIdx].pt)\n",
    "        pts1.append(kp1[m.queryIdx].pt)"
   ]
  },
  {
   "cell_type": "code",
   "execution_count": 76,
   "metadata": {},
   "outputs": [],
   "source": [
    "####Find EssentialMatrix\n",
    "pts1_E = np.asarray(pts1)\n",
    "pts2_E = np.asarray(pts2)\n",
    "E, mask = cv2.findEssentialMat(pts1_E, pts2_E)\n",
    "pts1_E = pts1_E[mask.ravel()==1]\n",
    "pts2_E = pts2_E[mask.ravel()==1]\n",
    "points, R, t, mask = cv2.recoverPose(E, pts1_E, pts2_E)"
   ]
  },
  {
   "cell_type": "code",
   "execution_count": 77,
   "metadata": {},
   "outputs": [],
   "source": [
    "###Find Fundamental Matrix\n",
    "pts1_F = np.int32(pts1)\n",
    "pts2_F = np.int32(pts2)\n",
    "F, mask = cv2.findFundamentalMat(pts1_F,pts2_F,cv2.FM_LMEDS)\n",
    "pts1_F = pts1_F[mask.ravel()==1]\n",
    "pts2_F = pts2_F[mask.ravel()==1]"
   ]
  },
  {
   "cell_type": "code",
   "execution_count": null,
   "metadata": {},
   "outputs": [],
   "source": []
  }
 ],
 "metadata": {
  "kernelspec": {
   "display_name": "Python 3",
   "language": "python",
   "name": "python3"
  },
  "language_info": {
   "codemirror_mode": {
    "name": "ipython",
    "version": 3
   },
   "file_extension": ".py",
   "mimetype": "text/x-python",
   "name": "python",
   "nbconvert_exporter": "python",
   "pygments_lexer": "ipython3",
   "version": "3.7.1"
  }
 },
 "nbformat": 4,
 "nbformat_minor": 2
}
