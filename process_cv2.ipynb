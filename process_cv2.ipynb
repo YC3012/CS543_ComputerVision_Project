{
 "cells": [
  {
   "cell_type": "code",
<<<<<<< HEAD:Process_cv2.ipynb
   "execution_count": 22,
=======
   "execution_count": 5,
>>>>>>> a2db7b6a2fdc92fcb5048c929660fac46a86a157:process_cv2.ipynb
   "metadata": {},
   "outputs": [],
   "source": [
    "import cv2\n",
    "import numpy as np\n",
    "import os\n",
    "import matplotlib.pyplot as plt"
   ]
  },
  {
   "cell_type": "code",
<<<<<<< HEAD:Process_cv2.ipynb
   "execution_count": 19,
   "metadata": {},
   "outputs": [],
   "source": [
    "def read_img(IMG_DIR, IMG_NAME_1, IMG_NAME_2):\n",
    "    img_1 = cv2.imread(IMG_DIR + IMG_NAME_1)\n",
    "    img_2 = cv2.imread(IMG_DIR + IMG_NAME_2)\n",
    "    #cv2.imshow('image1',img_1)\n",
    "    #cv2.imshow('image2',img_2)\n",
    "    #cv2.waitKey(0)\n",
    "    #cv2.destroyAllWindows()\n",
    "    return img_1, img_2"
=======
   "execution_count": 8,
   "metadata": {},
   "outputs": [],
   "source": [
    "IMG_DIR = 'image_0/'\n",
    "IMG_NAME_1 = '000000.png'\n",
    "IMG_NAME_2 = '000001.png'"
>>>>>>> a2db7b6a2fdc92fcb5048c929660fac46a86a157:process_cv2.ipynb
   ]
  },
  {
   "cell_type": "code",
<<<<<<< HEAD:Process_cv2.ipynb
   "execution_count": 54,
=======
   "execution_count": 9,
>>>>>>> a2db7b6a2fdc92fcb5048c929660fac46a86a157:process_cv2.ipynb
   "metadata": {},
   "outputs": [],
   "source": [
    "def addData(data,buf):\n",
    "    buf = np.roll(buf,1)\n",
    "    #print(buf[:, 0].shape)\n",
    "    #print(data.shape)\n",
    "    buf[:,0] = data.ravel()\n",
    "    return buf\n",
    "\n",
    "def real_plot(xx_data,yy_data,mark,pause_time=0.001):\n",
    "    if mark==[]:\n",
    "        mark, = ax.plot(xx_data,yy_data,'o',alpha=0.8)\n",
    "    mark.set_data(xx_data,yy_data)\n",
    "    plt.pause(pause_time)\n",
    "    return mark"
   ]
  },
  {
   "cell_type": "code",
<<<<<<< HEAD:Process_cv2.ipynb
   "execution_count": 57,
   "metadata": {},
   "outputs": [
    {
     "data": {
      "text/plain": [
       "Text(0, 0.5, 'Y axis movement')"
      ]
     },
     "execution_count": 57,
     "metadata": {},
     "output_type": "execute_result"
    },
    {
     "data": {
      "image/png": "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\n",
      "text/plain": [
       "<Figure size 432x288 with 1 Axes>"
      ]
     },
     "metadata": {},
     "output_type": "display_data"
    }
   ],
=======
   "execution_count": 10,
   "metadata": {},
   "outputs": [],
   "source": [
    "sift = cv2.xfeatures2d.SIFT_create()\n",
    "kp1, des1 = sift.detectAndCompute(img_1,None)\n",
    "kp2, des2 = sift.detectAndCompute(img_2,None)\n",
    "SIFT_1 = cv2.drawKeypoints(img_1, kp1, None, flags = cv2.DRAW_MATCHES_FLAGS_DRAW_RICH_KEYPOINTS)\n",
    "SIFT_2 = cv2.drawKeypoints(img_2, kp2, None, flags = cv2.DRAW_MATCHES_FLAGS_DRAW_RICH_KEYPOINTS)\n",
    "cv2.imshow('image1',SIFT_1)\n",
    "cv2.imshow('image2',SIFT_2)\n",
    "cv2.waitKey(0)\n",
    "cv2.destroyAllWindows()"
   ]
  },
  {
   "cell_type": "code",
   "execution_count": 11,
   "metadata": {},
   "outputs": [],
>>>>>>> a2db7b6a2fdc92fcb5048c929660fac46a86a157:process_cv2.ipynb
   "source": [
    "IMG_DIR = 'image_0/'\n",
    "T = np.zeros((3, 1))\n",
    "R = np.eye(3)\n",
    "memory = 5000\n",
    "#IMG_NAME_1 = '000000.png'\n",
    "#IMG_NAME_2 = '000001.png'\n",
    "plt.close('all')\n",
    "plt.style.use('ggplot')\n",
    "fig, ax = plt.subplots()\n",
    "plt.ylim([-800,800])\n",
    "plt.xlim([-800,800])\n",
    "plt.xlabel('X axis movement', fontsize='12')\n",
    "plt.ylabel('Y axis movement', fontsize='12')"
   ]
  },
  {
   "cell_type": "code",
<<<<<<< HEAD:Process_cv2.ipynb
   "execution_count": 58,
=======
   "execution_count": 12,
>>>>>>> a2db7b6a2fdc92fcb5048c929660fac46a86a157:process_cv2.ipynb
   "metadata": {},
   "outputs": [
    {
     "name": "stdout",
     "output_type": "stream",
     "text": [
      "[[0.]\n",
      " [0.]\n",
      " [0.]]\n",
      "[-0.9714976 -0.        -0.        ... -0.        -0.        -0.       ] [-0.23704436 -0.         -0.         ... -0.         -0.\n",
      " -0.        ]\n"
     ]
    },
    {
     "data": {
      "image/png": "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\n",
      "text/plain": [
       "<Figure size 432x288 with 1 Axes>"
      ]
     },
     "metadata": {},
     "output_type": "display_data"
    },
    {
     "name": "stdout",
     "output_type": "stream",
     "text": [
      "[-1.91918252 -0.9714976  -0.         ... -0.         -0.\n",
      " -0.        ] [-0.55624666 -0.23704436 -0.         ... -0.         -0.\n",
      " -0.        ]\n",
      "[-2.8856785  -1.91918252 -0.9714976  ... -0.         -0.\n",
      " -0.        ] [-0.81292364 -0.55624666 -0.23704436 ... -0.         -0.\n",
      " -0.        ]\n"
     ]
    }
   ],
   "source": [
    "print(T)\n",
    "ax = plt.subplot(1, 1, 1)\n",
    "mark = []\n",
    "buffer = np.zeros([2,memory])\n",
    "for root,dirs,files in os.walk(IMG_DIR):\n",
    "    for i, f in enumerate(files):\n",
    "        #print(i, f)\n",
    "        IMG_NAME_2 = f\n",
    "        if f == '000000.png':\n",
    "            IMG_NAME_1 = IMG_NAME_2\n",
    "            #print('here')\n",
    "            continue\n",
    "        img_1, img_2 = read_img(IMG_DIR, IMG_NAME_1, IMG_NAME_2)\n",
    "        ###SIFT###\n",
    "        sift = cv2.xfeatures2d.SIFT_create()\n",
    "        kp1, des1 = sift.detectAndCompute(img_1,None)\n",
    "        kp2, des2 = sift.detectAndCompute(img_2,None)\n",
    "        SIFT_1 = cv2.drawKeypoints(img_1, kp1, None, flags = cv2.DRAW_MATCHES_FLAGS_DRAW_RICH_KEYPOINTS)\n",
    "        SIFT_2 = cv2.drawKeypoints(img_2, kp2, None, flags = cv2.DRAW_MATCHES_FLAGS_DRAW_RICH_KEYPOINTS)\n",
    "        #cv2.imshow('image1',SIFT_1)\n",
    "        #cv2.imshow('image2',SIFT_2)\n",
    "        #cv2.waitKey(0)\n",
    "        #cv2.destroyAllWindows()\n",
    "        ###SIFT###\n",
    "        \n",
    "        ###FIND MATCHES###\n",
    "        FLANN_INDEX_KDTREE = 0\n",
    "        index_params = dict(algorithm = FLANN_INDEX_KDTREE, trees = 5)\n",
    "        search_params = dict(checks=50)\n",
    "        flann = cv2.FlannBasedMatcher(index_params,search_params)\n",
    "        matches = flann.knnMatch(des1,des2,k=2)\n",
    "        good = []\n",
    "        pts1 = []\n",
    "        pts2 = []\n",
    "        for i,(m,n) in enumerate(matches):\n",
    "            if m.distance < 0.8*n.distance:\n",
    "                good.append(m)\n",
    "                pts2.append(kp2[m.trainIdx].pt)\n",
    "                pts1.append(kp1[m.queryIdx].pt)\n",
    "        ###FIND MATCHES###\n",
    "        \n",
    "        ###Find EssentialMatrix###\n",
    "        pts1_E = np.asarray(pts1)\n",
    "        pts2_E = np.asarray(pts2)\n",
    "        E, mask = cv2.findEssentialMat(pts1_E, pts2_E)\n",
    "        pts1_E = pts1_E[mask.ravel()==1]\n",
    "        pts2_E = pts2_E[mask.ravel()==1]\n",
    "        points, r, t, mask = cv2.recoverPose(E, pts1_E, pts2_E)\n",
    "        T += R@t\n",
    "        R = r@R\n",
    "        \n",
    "        DATA = np.zeros([2,1])\n",
    "        DATA[0,0] = -T[0, 0]\n",
    "        DATA[1,0] = -T[1, 0]\n",
    "        #print(DATA.shape)\n",
    "        buffer = addData(DATA,buffer)\n",
    "        X = -buffer[0,:]\n",
    "        Y = -buffer[1,:]\n",
    "        print(X, Y)\n",
    "        mark = real_plot(X,Y,mark)\n",
    "        #print(T)\n",
    "        #ax.scatter(T[0], T[1])\n",
    "        #ax.show()\n",
    "        #ax.plot(1.5, 1.5, \"b\")\n",
    "        ###Find EssentialMatrix###\n",
    "        IMG_NAME_1 = IMG_NAME_2\n",
    "#plt.show()"
   ]
  },
  {
   "cell_type": "code",
<<<<<<< HEAD:Process_cv2.ipynb
   "execution_count": null,
=======
   "execution_count": 13,
>>>>>>> a2db7b6a2fdc92fcb5048c929660fac46a86a157:process_cv2.ipynb
   "metadata": {},
   "outputs": [],
   "source": [
    "###Find Fundamental Matrix\n",
    "#pts1_F = np.int32(pts1)\n",
    "#pts2_F = np.int32(pts2)\n",
    "#F, mask = cv2.findFundamentalMat(pts1_F,pts2_F,cv2.FM_LMEDS)\n",
    "#pts1_F = pts1_F[mask.ravel()==1]\n",
    "#pts2_F = pts2_F[mask.ravel()==1]"
   ]
  }
 ],
 "metadata": {
  "kernelspec": {
   "display_name": "Python 3",
   "language": "python",
   "name": "python3"
  },
  "language_info": {
   "codemirror_mode": {
    "name": "ipython",
    "version": 3
   },
   "file_extension": ".py",
   "mimetype": "text/x-python",
   "name": "python",
   "nbconvert_exporter": "python",
   "pygments_lexer": "ipython3",
   "version": "3.6.8"
  }
 },
 "nbformat": 4,
 "nbformat_minor": 2
}
