{
 "cells": [
  {
   "cell_type": "code",
   "execution_count": null,
   "metadata": {},
   "outputs": [],
   "source": [
    "import cv2\n",
    "import numpy as np"
   ]
  },
  {
   "cell_type": "code",
   "execution_count": null,
   "metadata": {},
   "outputs": [],
   "source": [
    "def read_image(IMG_DIR, IMG_NAME_1, IMG_NAME_2):\n",
    "    img_1 = cv2.imread(IMG_DIR + IMG_NAME_1)\n",
    "    img_2 = cv2.imread(IMG_DIR + IMG_NAME_2)\n",
    "    cv2.imshow('image1',img_1)\n",
    "    cv2.imshow('image2',img_2)\n",
    "    cv2.waitKey(0)\n",
    "    cv2.destroyAllWindows()\n",
    "    return img_1, img_2"
   ]
  },
  {
   "cell_type": "code",
   "execution_count": null,
   "metadata": {},
   "outputs": [],
   "source": [
    "IMG_DIR = 'image_0/'\n"
   ]
  },
  {
   "cell_type": "code",
   "execution_count": null,
   "metadata": {},
   "outputs": [],
   "source": [
    "T = np.zeros((3, 1))\n",
    "R = np.eye(3)\n",
    "for root,dirs,files in os.walk(DATA_DIR):\n",
    "    for i, f in enumerate(files):\n",
    "        IMG_NAME_2 = f\n",
    "        if f == '000000.png':\n",
    "            IMG_NAME_1 = IMG_NAME_2\n",
    "            continue\n",
    "        img_1, img_2 = read_image(IMG_DIR, IMG_NAME_1, IMG_NAME_2)\n",
    "        ###SIFT###\n",
    "        sift = cv2.xfeatures2d.SIFT_create()\n",
    "        kp1, des1 = sift.detectAndCompute(img_1,None)\n",
    "        kp2, des2 = sift.detectAndCompute(img_2,None)\n",
    "        SIFT_1 = cv2.drawKeypoints(img_1, kp1, None, flags = cv2.DRAW_MATCHES_FLAGS_DRAW_RICH_KEYPOINTS)\n",
    "        SIFT_2 = cv2.drawKeypoints(img_2, kp2, None, flags = cv2.DRAW_MATCHES_FLAGS_DRAW_RICH_KEYPOINTS)\n",
    "        cv2.imshow('image1',SIFT_1)\n",
    "        cv2.imshow('image2',SIFT_2)\n",
    "        cv2.waitKey(0)\n",
    "        cv2.destroyAllWindows()\n",
    "        ###SIFT###\n",
    "        \n",
    "        ###FIND MATCHES###\n",
    "        FLANN_INDEX_KDTREE = 0\n",
    "        index_params = dict(algorithm = FLANN_INDEX_KDTREE, trees = 5)\n",
    "        search_params = dict(checks=50)\n",
    "        flann = cv2.FlannBasedMatcher(index_params,search_params)\n",
    "        matches = flann.knnMatch(des1,des2,k=2)\n",
    "        good = []\n",
    "        pts1 = []\n",
    "        pts2 = []\n",
    "        for i,(m,n) in enumerate(matches):\n",
    "            if m.distance < 0.8*n.distance:\n",
    "                good.append(m)\n",
    "                pts2.append(kp2[m.trainIdx].pt)\n",
    "                pts1.append(kp1[m.queryIdx].pt)\n",
    "        ###FIND MATCHES###\n",
    "        \n",
    "        ###FIND ESSENTIALMATRIX###\n",
    "        pts1_E = np.asarray(pts1)\n",
    "        pts2_E = np.asarray(pts2)\n",
    "        E, mask = cv2.findEssentialMat(pts1_E, pts2_E)\n",
    "        pts1_E = pts1_E[mask.ravel()==1]\n",
    "        pts2_E = pts2_E[mask.ravel()==1]\n",
    "        points, r, t, mask = cv2.recoverPose(E, pts1_E, pts2_E)\n",
    "        ###FIND ESSENTIALMATRIX###\n",
    "        \n",
    "        ###CALCULATE R AND T###\n",
    "        T += -R@t\n",
    "        R = r@R\n",
    "        ###CALCULATE R AND T###\n",
    "        IMG_NAME_1 = IMG_NAME_2"
   ]
  }
 ],
 "metadata": {
  "kernelspec": {
   "display_name": "Python 3",
   "language": "python",
   "name": "python3"
  },
  "language_info": {
   "codemirror_mode": {
    "name": "ipython",
    "version": 3
   },
   "file_extension": ".py",
   "mimetype": "text/x-python",
   "name": "python",
   "nbconvert_exporter": "python",
   "pygments_lexer": "ipython3",
   "version": "3.6.8"
  }
 },
 "nbformat": 4,
 "nbformat_minor": 2
}
