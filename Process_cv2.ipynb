{
 "cells": [
  {
   "cell_type": "code",
   "execution_count": 45,
   "metadata": {},
   "outputs": [],
   "source": [
    "import cv2\n",
    "import numpy as np\n",
    "from scipy import signal"
   ]
  },
  {
   "cell_type": "code",
   "execution_count": 65,
   "metadata": {},
   "outputs": [],
   "source": [
    "def find_match(des_1,des_2,k):\n",
    "### Input: \n",
    "### des_1: descriptor, a list\n",
    "### des_2: descriptor, a list\n",
    "### k: number of best matchings in des_2 compared to des_1\n",
    "###\n",
    "### Output:\n",
    "### a list that has dimension len(dis_1)*k, each entry is a cv2.DMatch() type.\n",
    "\n",
    "    dist_mat = scipy.spatial.distance.cdist(des_1,des_2,'sqeuclidean') #calculate distance matrix\n",
    "    matches = []\n",
    "    for query_ind,query in enumerate(dist_mat):\n",
    "        train_cand_ind_list = np.argsort(query)[:k] # find k elements with smallest distance\n",
    "        query_matching = []\n",
    "        for train_cand_ind in train_cand_ind_list:\n",
    "            single_match = cv2.DMatch(query_ind,train_cand_ind,0,query[train_cand_ind])\n",
    "            query_matching.append(single_match)\n",
    "        matches.append(query_matching)\n",
    "    return matches"
   ]
  },
  {
   "cell_type": "code",
   "execution_count": 4,
   "metadata": {},
   "outputs": [],
   "source": [
    "IMG_DIR = 'image_0/'\n",
    "IMG_NAME_1 = '000000.png'\n",
    "IMG_NAME_2 = '000001.png'"
   ]
  },
  {
   "cell_type": "code",
   "execution_count": 5,
   "metadata": {},
   "outputs": [],
   "source": [
    "img_1 = cv2.imread(IMG_DIR + IMG_NAME_1)\n",
    "img_2 = cv2.imread(IMG_DIR + IMG_NAME_2)\n",
    "cv2.imshow('image1',img_1)\n",
    "cv2.imshow('image2',img_2)\n",
    "cv2.waitKey(0)\n",
    "cv2.destroyAllWindows()"
   ]
  },
  {
   "cell_type": "code",
   "execution_count": 6,
   "metadata": {},
   "outputs": [],
   "source": [
    "sift = cv2.xfeatures2d.SIFT_create()\n",
    "kp1, des1 = sift.detectAndCompute(img_1,None)\n",
    "kp2, des2 = sift.detectAndCompute(img_2,None)\n",
    "SIFT_1 = cv2.drawKeypoints(img_1, kp1, None, flags = cv2.DRAW_MATCHES_FLAGS_DRAW_RICH_KEYPOINTS)\n",
    "SIFT_2 = cv2.drawKeypoints(img_2, kp2, None, flags = cv2.DRAW_MATCHES_FLAGS_DRAW_RICH_KEYPOINTS)\n",
    "cv2.imshow('image1',SIFT_1)\n",
    "cv2.imshow('image2',SIFT_2)\n",
    "cv2.waitKey(0)\n",
    "cv2.destroyAllWindows()"
   ]
  },
  {
   "cell_type": "code",
   "execution_count": 67,
   "metadata": {},
   "outputs": [
    {
     "name": "stdout",
     "output_type": "stream",
     "text": [
      "345\n",
      "345\n"
     ]
    }
   ],
   "source": [
    "# FLANN_INDEX_KDTREE = 0\n",
    "# index_params = dict(algorithm = FLANN_INDEX_KDTREE, trees = 5)\n",
    "# search_params = dict(checks=50)\n",
    "# flann = cv2.FlannBasedMatcher(index_params,search_params)\n",
    "# matches = flann.knnMatch(des1,des2,k=2)\n",
    "matches_test = find_match(des1,des2,k=2)\n",
    "good = []\n",
    "pts1 = []\n",
    "pts2 = []\n",
    "for i,(m,n) in enumerate(matches):\n",
    "    if m.distance < 0.8*n.distance:\n",
    "        good.append(m)\n",
    "        pts2.append(kp2[m.trainIdx].pt)\n",
    "        pts1.append(kp1[m.queryIdx].pt)"
   ]
  },
  {
   "cell_type": "code",
   "execution_count": 76,
   "metadata": {},
   "outputs": [],
   "source": [
    "####Find EssentialMatrix\n",
    "pts1_E = np.asarray(pts1)\n",
    "pts2_E = np.asarray(pts2)\n",
    "E, mask = cv2.findEssentialMat(pts1_E, pts2_E)\n",
    "pts1_E = pts1_E[mask.ravel()==1]\n",
    "pts2_E = pts2_E[mask.ravel()==1]\n",
    "points, R, t, mask = cv2.recoverPose(E, pts1_E, pts2_E)"
   ]
  },
  {
   "cell_type": "code",
   "execution_count": 77,
   "metadata": {},
   "outputs": [],
   "source": [
    "###Find Fundamental Matrix\n",
    "pts1_F = np.int32(pts1)\n",
    "pts2_F = np.int32(pts2)\n",
    "F, mask = cv2.findFundamentalMat(pts1_F,pts2_F,cv2.FM_LMEDS)\n",
    "pts1_F = pts1_F[mask.ravel()==1]\n",
    "pts2_F = pts2_F[mask.ravel()==1]"
   ]
  }
 ],
 "metadata": {
  "kernelspec": {
   "display_name": "Python 3",
   "language": "python",
   "name": "python3"
  },
  "language_info": {
   "codemirror_mode": {
    "name": "ipython",
    "version": 3
   },
   "file_extension": ".py",
   "mimetype": "text/x-python",
   "name": "python",
   "nbconvert_exporter": "python",
   "pygments_lexer": "ipython3",
   "version": "3.7.1"
  }
 },
 "nbformat": 4,
 "nbformat_minor": 2
}
