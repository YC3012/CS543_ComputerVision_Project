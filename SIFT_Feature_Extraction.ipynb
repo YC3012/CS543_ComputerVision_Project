{
 "cells": [
  {
   "cell_type": "markdown",
   "metadata": {},
   "source": [
    "## Include libraries"
   ]
  },
  {
   "cell_type": "code",
   "execution_count": 1,
   "metadata": {},
   "outputs": [],
   "source": [
    "import cv2\n",
    "import numpy as np\n",
    "import numpy.linalg as la\n",
    "import re\n",
    "import matplotlib.pyplot as plt\n",
    "%matplotlib inline\n",
    "from scipy import signal\n",
    "import scipy"
   ]
  },
  {
   "cell_type": "markdown",
   "metadata": {},
   "source": [
    "## Function"
   ]
  },
  {
   "cell_type": "code",
   "execution_count": 2,
   "metadata": {},
   "outputs": [],
   "source": [
    "def find_match(des_1,des_2,k):\n",
    "### Input: \n",
    "### des_1: descriptor, a list\n",
    "### des_2: descriptor, a list\n",
    "### k: number of best matchings in des_2 compared to des_1\n",
    "###\n",
    "### Output:\n",
    "### a list that has dimension len(dis_1)*k, each entry is a cv2.DMatch() type.\n",
    "\n",
    "    dist_mat = scipy.spatial.distance.cdist(des_1,des_2,'sqeuclidean') #calculate distance matrix\n",
    "    matches = []\n",
    "    for query_ind,query in enumerate(dist_mat):\n",
    "        train_cand_ind_list = np.argsort(query)[:k] # find k elements with smallest distance\n",
    "        query_matching = []\n",
    "        for train_cand_ind in train_cand_ind_list:\n",
    "            single_match = cv2.DMatch(query_ind,train_cand_ind,0,query[train_cand_ind])\n",
    "            query_matching.append(single_match)\n",
    "        matches.append(query_matching)\n",
    "    return matches"
   ]
  },
  {
   "cell_type": "markdown",
   "metadata": {},
   "source": [
    "## Inputs"
   ]
  },
  {
   "cell_type": "code",
   "execution_count": 3,
   "metadata": {},
   "outputs": [],
   "source": [
    "IMG_DIR = 'image_0/'\n",
    "IMG_NAME_1 = '000000.png'\n",
    "IMG_NAME_2 = '000001.png'"
   ]
  },
  {
   "cell_type": "markdown",
   "metadata": {},
   "source": [
    "## Find keypoints & descriptors"
   ]
  },
  {
   "cell_type": "code",
   "execution_count": 4,
   "metadata": {},
   "outputs": [],
   "source": [
    "img_1 = cv2.imread(IMG_DIR + IMG_NAME_1)\n",
    "img_2 = cv2.imread(IMG_DIR + IMG_NAME_2)\n",
    "\n",
    "sift = cv2.xfeatures2d.SIFT_create()\n",
    "kp1, des1 = sift.detectAndCompute(img_1,None)\n",
    "kp2, des2 = sift.detectAndCompute(img_2,None)"
   ]
  },
  {
   "cell_type": "markdown",
   "metadata": {},
   "source": [
    "## Sorting matches"
   ]
  },
  {
   "cell_type": "code",
   "execution_count": 5,
   "metadata": {},
   "outputs": [],
   "source": [
    "# FLANN_INDEX_KDTREE = 0\n",
    "# index_params = dict(algorithm = FLANN_INDEX_KDTREE, trees = 5)\n",
    "# search_params = dict(checks=50)\n",
    "# flann = cv2.FlannBasedMatcher(index_params,search_params)\n",
    "matches = find_match(des1,des2,k=2)\n",
    "good = []\n",
    "pts1 = []\n",
    "pts2 = []\n",
    "kpt1_E = []\n",
    "kpt2_E = []\n",
    "for i,(m,n) in enumerate(matches):\n",
    "    if m.distance < 0.8*n.distance:\n",
    "        good.append(m)\n",
    "        pts1.append(kp1[m.queryIdx].pt)\n",
    "        pts2.append(kp2[m.trainIdx].pt)\n",
    "        kpt1_E.append(kp1[m.queryIdx])\n",
    "        kpt2_E.append(kp2[m.queryIdx])\n",
    "        \n",
    "pts1_E = np.asarray(pts1)\n",
    "pts2_E = np.asarray(pts2)"
   ]
  },
  {
   "cell_type": "markdown",
   "metadata": {},
   "source": [
    "## Plot matches"
   ]
  },
  {
   "cell_type": "code",
   "execution_count": 6,
   "metadata": {},
   "outputs": [
    {
     "data": {
      "text/plain": [
       "-1"
      ]
     },
     "execution_count": 6,
     "metadata": {},
     "output_type": "execute_result"
    }
   ],
   "source": [
    "SIFT_1 = cv2.drawKeypoints(img_1, kpt1_E, None, flags = cv2.DRAW_MATCHES_FLAGS_DRAW_RICH_KEYPOINTS)\n",
    "SIFT_2 = cv2.drawKeypoints(img_2, kpt2_E, None, flags = cv2.DRAW_MATCHES_FLAGS_DRAW_RICH_KEYPOINTS)\n",
    "\n",
    "cv2.imwrite('SIFT_matches_image1.png',SIFT_1)\n",
    "cv2.imwrite('SIFT_matches_image2.png',SIFT_2)\n",
    "cv2.imshow('Matches from image1',SIFT_1)\n",
    "cv2.imshow('Matches from image2',SIFT_2)\n",
    "cv2.waitKey()"
   ]
  },
  {
   "cell_type": "code",
   "execution_count": null,
   "metadata": {},
   "outputs": [],
   "source": []
  }
 ],
 "metadata": {
  "kernelspec": {
   "display_name": "Python 3",
   "language": "python",
   "name": "python3"
  },
  "language_info": {
   "codemirror_mode": {
    "name": "ipython",
    "version": 3
   },
   "file_extension": ".py",
   "mimetype": "text/x-python",
   "name": "python",
   "nbconvert_exporter": "python",
   "pygments_lexer": "ipython3",
   "version": "3.6.8"
  }
 },
 "nbformat": 4,
 "nbformat_minor": 2
}
